{
 "cells": [
  {
   "cell_type": "code",
   "execution_count": 2,
   "metadata": {},
   "outputs": [],
   "source": [
    "import numpy as np\n",
    "import matplotlib.pyplot as plt\n",
    "%matplotlib inline\n",
    "import cv2\n",
    "import os\n",
    "from openslide import OpenSlide\n",
    "import openslide \n",
    "from openslide import open_slide\n",
    "\n"
   ]
  },
  {
   "cell_type": "code",
   "execution_count": 9,
   "metadata": {},
   "outputs": [
    {
     "name": "stdout",
     "output_type": "stream",
     "text": [
      "['0010-18 - 2020-12-06 10.55.28.ndpi', '0151-18 - 2020-12-06 11.05.59.ndpi', '0604-19 - 2020-12-06 12.45.06.ndpi', '0996-20 - 2020-12-06 13.39.05.ndpi', '1227-18 - 2020-12-06 11.18.28.ndpi', '1312-18 - 2020-12-06 11.28.46.ndpi', '1574-18 - 2020-12-06 11.40.14.ndpi', '1642-18 - 2020-12-06 11.52.01.ndpi', '1707-18 - 2020-12-06 12.03.33.ndpi', '1771-19 - 2020-12-06 12.52.50.ndpi', '1792-18 - 2020-12-06 12.15.07.ndpi', '1867-18 - 2020-12-06 12.24.53.ndpi', '2040-18 - 2020-12-06 12.31.07.ndpi', '2116-19 - 2020-12-06 13.06.17.ndpi', '2317-19 - 2020-12-06 13.17.59.ndpi', '2674-19 - 2020-12-06 13.29.48.ndpi']\n",
      "D:\\noda\\noda\\NDP_image\\add_posi_N23\\tsuika_N23\\0010-18 - 2020-12-06 10.55.28.ndpi\n",
      "143360 95488\n",
      "D:\\noda\\noda\\NDP_image\\add_posi_N23\\tsuika_N23\\0151-18 - 2020-12-06 11.05.59.ndpi\n",
      "151552 107520\n",
      "D:\\noda\\noda\\NDP_image\\add_posi_N23\\tsuika_N23\\0604-19 - 2020-12-06 12.45.06.ndpi\n",
      "139264 71168\n",
      "D:\\noda\\noda\\NDP_image\\add_posi_N23\\tsuika_N23\\0996-20 - 2020-12-06 13.39.05.ndpi\n",
      "126976 91648\n",
      "D:\\noda\\noda\\NDP_image\\add_posi_N23\\tsuika_N23\\1227-18 - 2020-12-06 11.18.28.ndpi\n",
      "147456 89856\n",
      "D:\\noda\\noda\\NDP_image\\add_posi_N23\\tsuika_N23\\1312-18 - 2020-12-06 11.28.46.ndpi\n",
      "151552 100608\n",
      "D:\\noda\\noda\\NDP_image\\add_posi_N23\\tsuika_N23\\1574-18 - 2020-12-06 11.40.14.ndpi\n",
      "147456 107264\n",
      "D:\\noda\\noda\\NDP_image\\add_posi_N23\\tsuika_N23\\1642-18 - 2020-12-06 11.52.01.ndpi\n",
      "147456 100096\n",
      "D:\\noda\\noda\\NDP_image\\add_posi_N23\\tsuika_N23\\1707-18 - 2020-12-06 12.03.33.ndpi\n",
      "151552 101120\n",
      "D:\\noda\\noda\\NDP_image\\add_posi_N23\\tsuika_N23\\1771-19 - 2020-12-06 12.52.50.ndpi\n",
      "159744 110080\n",
      "D:\\noda\\noda\\NDP_image\\add_posi_N23\\tsuika_N23\\1792-18 - 2020-12-06 12.15.07.ndpi\n",
      "118784 110080\n",
      "D:\\noda\\noda\\NDP_image\\add_posi_N23\\tsuika_N23\\1867-18 - 2020-12-06 12.24.53.ndpi\n",
      "143360 51456\n",
      "D:\\noda\\noda\\NDP_image\\add_posi_N23\\tsuika_N23\\2040-18 - 2020-12-06 12.31.07.ndpi\n",
      "155648 110080\n",
      "D:\\noda\\noda\\NDP_image\\add_posi_N23\\tsuika_N23\\2116-19 - 2020-12-06 13.06.17.ndpi\n",
      "151552 104448\n",
      "D:\\noda\\noda\\NDP_image\\add_posi_N23\\tsuika_N23\\2317-19 - 2020-12-06 13.17.59.ndpi\n",
      "139264 110080\n",
      "D:\\noda\\noda\\NDP_image\\add_posi_N23\\tsuika_N23\\2674-19 - 2020-12-06 13.29.48.ndpi\n",
      "114688 110080\n"
     ]
    }
   ],
   "source": [
    "\n",
    "#　pilイメージから　opencvへの変換する関数\n",
    "def pil2cv(image):\n",
    "    ''' PIL型 -> OpenCV型 '''\n",
    "    new_image = np.array(image, dtype=np.uint8)\n",
    "    if new_image.ndim == 2:  # モノクロ\n",
    "        pass\n",
    "    elif new_image.shape[2] == 3:  # カラー\n",
    "        new_image = cv2.cvtColor(new_image, cv2.COLOR_RGB2BGR)\n",
    "    elif new_image.shape[2] == 4:  # 透過\n",
    "        new_image = cv2.cvtColor(new_image, cv2.COLOR_RGBA2BGRA)\n",
    "    return new_image\n",
    "\n",
    "#下記でディレクトリ内のフォルダのみの一覧を取得できる\n",
    "\n",
    "path = r\"D:\\noda\\noda\\NDP_image\\add_posi_N23\\tsuika_N23\"\n",
    "files = os.listdir(path)\n",
    "files_file = [f for f in files if os.path.isfile(os.path.join(path, f))]\n",
    "print(files_file)   \n",
    "\n",
    "\n",
    "#このfiles_fileリストの一つ一つ（つまりバーチャルスライド一つ一つ）を分割すればよい\n",
    "path2=r\"D:\\noda\\noda\\pre_annotation_image\\pre_annotation_image_add_posi_N23\"\n",
    "for n in files_file:\n",
    "    \n",
    "    nn=path+\"\\\\\"+n\n",
    "    #files_fileの中の絶対パス\n",
    "    print(nn)\n",
    "    \n",
    "    \n",
    "    WSI = nn\n",
    "    osimg = OpenSlide(WSI)\n",
    "    width,height=osimg.dimensions\n",
    "    print(width,height)\n",
    "    image=osimg.get_thumbnail((width/50 ,height/50))\n",
    "#PIL→cv2に変換\n",
    "    img_1 =pil2cv(image)\n",
    "    \n",
    "\n",
    "#▲フォルダはあらかじめ作っておく\n",
    "    cv2.imwrite(path2+\"/\"+n+\"downsampling.png\",img_1)\n"
   ]
  },
  {
   "cell_type": "code",
   "execution_count": null,
   "metadata": {},
   "outputs": [],
   "source": []
  }
 ],
 "metadata": {
  "kernelspec": {
   "display_name": "Python 3",
   "language": "python",
   "name": "python3"
  },
  "language_info": {
   "codemirror_mode": {
    "name": "ipython",
    "version": 3
   },
   "file_extension": ".py",
   "mimetype": "text/x-python",
   "name": "python",
   "nbconvert_exporter": "python",
   "pygments_lexer": "ipython3",
   "version": "3.8.5"
  }
 },
 "nbformat": 4,
 "nbformat_minor": 4
}
