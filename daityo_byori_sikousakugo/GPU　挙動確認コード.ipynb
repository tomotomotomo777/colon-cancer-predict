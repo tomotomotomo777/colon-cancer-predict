{
 "cells": [
  {
   "cell_type": "code",
   "execution_count": 7,
   "metadata": {},
   "outputs": [
    {
     "name": "stdout",
     "output_type": "stream",
     "text": [
      "[{'index': '0',\n",
      "  'memory.free': '21644',\n",
      "  'memory.total': '24219',\n",
      "  'memory.used': '2575',\n",
      "  'name': 'TITAN RTX',\n",
      "  'timestamp': '2020/12/11 21:28:05.237',\n",
      "  'utilization.gpu': '36',\n",
      "  'utilization.memory': '10',\n",
      "  'uuid': 'GPU-8ab2ae9c-ac78-a9ef-b8cc-5d572bb1a60e'}]\n"
     ]
    }
   ],
   "source": [
    "import subprocess\n",
    "import json\n",
    "\n",
    "DEFAULT_ATTRIBUTES = (\n",
    "    'index',\n",
    "    'uuid',\n",
    "    'name',\n",
    "    'timestamp',\n",
    "    'memory.total',\n",
    "    'memory.free',\n",
    "    'memory.used',\n",
    "    'utilization.gpu',\n",
    "    'utilization.memory'\n",
    ")\n",
    "\n",
    "def get_gpu_info(nvidia_smi_path='nvidia-smi', keys=DEFAULT_ATTRIBUTES, no_units=True):\n",
    "    nu_opt = '' if not no_units else ',nounits'\n",
    "    cmd = '%s --query-gpu=%s --format=csv,noheader%s' % (nvidia_smi_path, ','.join(keys), nu_opt)\n",
    "    output = subprocess.check_output(cmd, shell=True)\n",
    "    lines = output.decode().split('\\n')\n",
    "    lines = [ line.strip() for line in lines if line.strip() != '' ]\n",
    "\n",
    "    return [ { k: v for k, v in zip(keys, line.split(', ')) } for line in lines ]\n",
    "\n",
    "\n",
    "import pprint\n",
    "pprint.pprint(get_gpu_info())"
   ]
  }
 ],
 "metadata": {
  "kernelspec": {
   "display_name": "Python 3",
   "language": "python",
   "name": "python3"
  },
  "language_info": {
   "codemirror_mode": {
    "name": "ipython",
    "version": 3
   },
   "file_extension": ".py",
   "mimetype": "text/x-python",
   "name": "python",
   "nbconvert_exporter": "python",
   "pygments_lexer": "ipython3",
   "version": "3.6.12"
  }
 },
 "nbformat": 4,
 "nbformat_minor": 4
}
