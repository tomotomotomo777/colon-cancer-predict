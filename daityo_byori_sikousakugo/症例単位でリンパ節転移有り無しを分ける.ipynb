{
 "cells": [
  {
   "cell_type": "code",
   "execution_count": 1,
   "metadata": {},
   "outputs": [
    {
     "ename": "SyntaxError",
     "evalue": "invalid syntax (<ipython-input-1-4d333c5f8efa>, line 13)",
     "output_type": "error",
     "traceback": [
      "\u001b[1;36m  File \u001b[1;32m\"<ipython-input-1-4d333c5f8efa>\"\u001b[1;36m, line \u001b[1;32m13\u001b[0m\n\u001b[1;33m    pip install svglib\u001b[0m\n\u001b[1;37m              ^\u001b[0m\n\u001b[1;31mSyntaxError\u001b[0m\u001b[1;31m:\u001b[0m invalid syntax\n"
     ]
    }
   ],
   "source": [
    "#今までのノートは　width　と　height が逆になっていた。このノートより新しいノートは逆になっている。\n",
    "\n",
    "# このページのサマリー\n",
    "\n",
    "#　20倍のスライドでの分割するために！！！\n",
    "\n",
    "\n",
    "#　openslideで　ndpi画像を読み込んで\n",
    "#　4000で分割して\n",
    "#　白っぽい画像は省いて（グレー画像にして平均とって白っぽい画像は省く）\n",
    "#リサイズして　\n",
    "#格納\n"
   ]
  },
  {
   "cell_type": "code",
   "execution_count": 1,
   "metadata": {},
   "outputs": [
    {
     "name": "stdout",
     "output_type": "stream",
     "text": [
      "(147456L, 103936L)\n"
     ]
    }
   ],
   "source": [
    "import numpy as np\n",
    "import matplotlib.pyplot as plt\n",
    "%matplotlib inline\n",
    "import cv2\n",
    "import os\n",
    "from openslide import OpenSlide\n",
    "\n",
    "\n",
    "\n",
    "WSI = \"C:\\Users\\compa\\Dropbox\\My PC (DESKTOP-L1QQ0DV)\\Downloads\\colon AI\\ABC.ndpi\"\n",
    "# WSIはこの時点ではただの　str\n",
    "\n",
    "osimg = OpenSlide(WSI)\n",
    "\n",
    "width,height=osimg.dimensions\n",
    "\n",
    "\n",
    "#dementionsでndpi画像のsizeとwidthを格納\n",
    "#以下は4000で分割\n",
    "\n",
    "size= 4000\n",
    "#割り切れる数に調整\n",
    "height = height // size * size\n",
    "width = width // size * size\n",
    "#何個に分割するかを変数に入れる\n",
    "height_split = height//size\n",
    "width_split = width//size\n",
    "\n",
    "print(height,width)\n",
    "print(height_split,width_split)\n",
    "\n",
    "print(height_split,width_split)\n",
    "\n",
    "for j in range(height_split):\n",
    "    l=4000*j\n",
    "    for k in range(width_split):\n",
    "        m=4000*k\n",
    "        img = osimg.read_region((m,l), 0, (4000,4000))\n",
    "        img = np.array(img, dtype=np.uint8)\n",
    "# #         #一度グレー画像にして　配列の平均とってそれがある程度の白画像示すものならば　スキップ。それ以外ならばファイル保存\n",
    "        \n",
    "        img_gray = cv2.cvtColor(img, cv2.COLOR_BGR2GRAY)\n",
    "        img_gray_mean=np.mean(img_gray)\n",
    "        if img_gray_mean > 210:\n",
    "            continue\n",
    "        img = cv2.cvtColor(img, cv2.COLOR_RGB2BGR)\n",
    "        推論する\n",
    "        if　癌ならば\n",
    "        さらに推論（10倍リンパ節予測モデルで）してリンパ節点にありか　なしかを結果出す。\n",
    "        リンパ節転転移陽性➡＋１\n",
    "        リンパ節転移陰性➡－１\n",
    "\n",
    " \n",
    "\n",
    "\n",
    "最終的に0以上ならリンパ節要請転移\n"
   ]
  },
  {
   "cell_type": "code",
   "execution_count": 5,
   "metadata": {},
   "outputs": [
    {
     "ename": "ImportError",
     "evalue": "DLL load failed: 指定されたプロシージャが見つかりません。",
     "output_type": "error",
     "traceback": [
      "\u001b[1;31m\u001b[0m",
      "\u001b[1;31mImportError\u001b[0mTraceback (most recent call last)",
      "\u001b[1;32m<ipython-input-5-08891cd2e5e2>\u001b[0m in \u001b[0;36m<module>\u001b[1;34m()\u001b[0m\n\u001b[0;32m      1\u001b[0m \u001b[1;32mimport\u001b[0m \u001b[0msvglib\u001b[0m\u001b[1;33m\u001b[0m\u001b[0m\n\u001b[0;32m      2\u001b[0m \u001b[1;32mimport\u001b[0m \u001b[0mglob\u001b[0m\u001b[1;33m\u001b[0m\u001b[0m\n\u001b[1;32m----> 3\u001b[1;33m \u001b[1;32mfrom\u001b[0m \u001b[0msvglib\u001b[0m\u001b[1;33m.\u001b[0m\u001b[0msvglib\u001b[0m \u001b[1;32mimport\u001b[0m \u001b[0msvg2rlg\u001b[0m\u001b[1;33m\u001b[0m\u001b[0m\n\u001b[0m\u001b[0;32m      4\u001b[0m \u001b[1;32mfrom\u001b[0m \u001b[0mreportlab\u001b[0m\u001b[1;33m.\u001b[0m\u001b[0mgraphics\u001b[0m \u001b[1;32mimport\u001b[0m \u001b[0mrenderPDF\u001b[0m\u001b[1;33m,\u001b[0m \u001b[0mrenderPM\u001b[0m\u001b[1;33m\u001b[0m\u001b[0m\n",
      "\u001b[1;32mC:\\Users\\compa\\anaconda3\\envs\\py27\\lib\\site-packages\\svglib\\svglib.py\u001b[0m in \u001b[0;36m<module>\u001b[1;34m()\u001b[0m\n\u001b[0;32m     47\u001b[0m \u001b[1;32mfrom\u001b[0m \u001b[0mreportlab\u001b[0m\u001b[1;33m.\u001b[0m\u001b[0mlib\u001b[0m\u001b[1;33m.\u001b[0m\u001b[0munits\u001b[0m \u001b[1;32mimport\u001b[0m \u001b[0mpica\u001b[0m\u001b[1;33m,\u001b[0m \u001b[0mtoLength\u001b[0m\u001b[1;33m\u001b[0m\u001b[0m\n\u001b[0;32m     48\u001b[0m \u001b[1;32mfrom\u001b[0m \u001b[0mreportlab\u001b[0m\u001b[1;33m.\u001b[0m\u001b[0mlib\u001b[0m\u001b[1;33m.\u001b[0m\u001b[0mutils\u001b[0m \u001b[1;32mimport\u001b[0m \u001b[0mhaveImages\u001b[0m\u001b[1;33m\u001b[0m\u001b[0m\n\u001b[1;32m---> 49\u001b[1;33m \u001b[1;32mfrom\u001b[0m \u001b[0mlxml\u001b[0m \u001b[1;32mimport\u001b[0m \u001b[0metree\u001b[0m\u001b[1;33m\u001b[0m\u001b[0m\n\u001b[0m\u001b[0;32m     50\u001b[0m \u001b[1;32mimport\u001b[0m \u001b[0mcssselect2\u001b[0m\u001b[1;33m\u001b[0m\u001b[0m\n\u001b[0;32m     51\u001b[0m \u001b[1;32mimport\u001b[0m \u001b[0mtinycss2\u001b[0m\u001b[1;33m\u001b[0m\u001b[0m\n",
      "\u001b[1;31mImportError\u001b[0m: DLL load failed: 指定されたプロシージャが見つかりません。"
     ]
    }
   ],
   "source": []
  }
 ],
 "metadata": {
  "kernelspec": {
   "display_name": "Python 3",
   "language": "python",
   "name": "python3"
  },
  "language_info": {
   "codemirror_mode": {
    "name": "ipython",
    "version": 3
   },
   "file_extension": ".py",
   "mimetype": "text/x-python",
   "name": "python",
   "nbconvert_exporter": "python",
   "pygments_lexer": "ipython3",
   "version": "3.8.3"
  }
 },
 "nbformat": 4,
 "nbformat_minor": 2
}
