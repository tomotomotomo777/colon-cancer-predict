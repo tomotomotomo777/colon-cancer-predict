{
 "cells": [
  {
   "cell_type": "code",
   "execution_count": 2,
   "metadata": {},
   "outputs": [
    {
     "name": "stdout",
     "output_type": "stream",
     "text": [
      "Collecting torchvision\n",
      "  Downloading torchvision-0.5.0-cp38-cp38-win_amd64.whl (1.2 MB)\n",
      "Requirement already satisfied: pillow>=4.1.1 in c:\\users\\compa\\anaconda3\\lib\\site-packages (from torchvision) (7.2.0)\n",
      "  Downloading torchvision-0.2.2.post3-py2.py3-none-any.whl (64 kB)\n",
      "Requirement already satisfied: torch in c:\\users\\compa\\anaconda3\\lib\\site-packages (from torchvision) (1.7.1)\n",
      "Requirement already satisfied: six in c:\\users\\compa\\anaconda3\\lib\\site-packages (from torchvision) (1.15.0)\n",
      "Requirement already satisfied: numpy in c:\\users\\compa\\anaconda3\\lib\\site-packages (from torchvision) (1.18.5)\n",
      "Requirement already satisfied: typing-extensions in c:\\users\\compa\\anaconda3\\lib\\site-packages (from torch->torchvision) (3.7.4.2)\n",
      "Installing collected packages: torchvision\n",
      "Successfully installed torchvision-0.2.2.post3\n",
      "Note: you may need to restart the kernel to use updated packages.\n"
     ]
    }
   ],
   "source": [
    "pip install torchvision\n"
   ]
  },
  {
   "cell_type": "code",
   "execution_count": 3,
   "metadata": {},
   "outputs": [],
   "source": [
    "import torch\n",
    "import torch.nn as nn\n",
    "import torch.nn.functional as F\n",
    "from torch import optim\n",
    "import pandas as pd\n",
    "import numpy as np\n",
    "import matplotlib.pyplot as plt\n",
    "from torchvision import datasets, transforms\n",
    "from torchvision import models\n",
    "from tqdm import tqdm_notebook as tqdm\n",
    "from PIL import Image\n",
    "import cv2\n",
    "\n",
    "device = torch.device(\"cuda\" if torch.cuda.is_available() else \"cpu\")"
   ]
  },
  {
   "cell_type": "code",
   "execution_count": 4,
   "metadata": {},
   "outputs": [],
   "source": [
    "# グレースケールをヒートマップにする関数\n",
    "# 得られたグレースケールの注目箇所をヒートマップに変換する際に用います\n",
    "def toHeatmap(x):\n",
    "    x = (x*255).reshape(-1)\n",
    "    cm = plt.get_cmap('jet')\n",
    "    x = np.array([cm(int(np.round(xi)))[:3] for xi in x])\n",
    "    return x.reshape(224,224,3)"
   ]
  },
  {
   "cell_type": "code",
   "execution_count": null,
   "metadata": {},
   "outputs": [],
   "source": []
  }
 ],
 "metadata": {
  "kernelspec": {
   "display_name": "Python 3",
   "language": "python",
   "name": "python3"
  },
  "language_info": {
   "codemirror_mode": {
    "name": "ipython",
    "version": 3
   },
   "file_extension": ".py",
   "mimetype": "text/x-python",
   "name": "python",
   "nbconvert_exporter": "python",
   "pygments_lexer": "ipython3",
   "version": "3.8.3"
  }
 },
 "nbformat": 4,
 "nbformat_minor": 4
}
